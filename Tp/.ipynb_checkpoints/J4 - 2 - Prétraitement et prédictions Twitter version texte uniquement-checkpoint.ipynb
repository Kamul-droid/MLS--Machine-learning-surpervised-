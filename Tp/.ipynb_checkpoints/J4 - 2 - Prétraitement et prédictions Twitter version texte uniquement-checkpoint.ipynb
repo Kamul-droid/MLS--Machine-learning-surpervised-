{
 "cells": [
  {
   "cell_type": "code",
   "execution_count": 31,
   "id": "c1c85dea",
   "metadata": {},
   "outputs": [
    {
     "name": "stderr",
     "output_type": "stream",
     "text": [
      "[nltk_data] Downloading package stopwords to /home/kf/nltk_data...\n",
      "[nltk_data]   Package stopwords is already up-to-date!\n",
      "[nltk_data] Downloading package wordnet to /home/kf/nltk_data...\n",
      "[nltk_data]   Package wordnet is already up-to-date!\n"
     ]
    }
   ],
   "source": [
    "import pandas as pd\n",
    "import numpy as np\n",
    "from sklearn.model_selection import train_test_split\n",
    "from sklearn.pipeline import Pipeline\n",
    "from sklearn.compose import ColumnTransformer\n",
    "from sklearn.preprocessing import OneHotEncoder, MinMaxScaler, FunctionTransformer\n",
    "from sklearn.impute import SimpleImputer, KNNImputer\n",
    "import re\n",
    "\n",
    "import nltk\n",
    "from nltk.corpus import stopwords\n",
    "from nltk.stem import WordNetLemmatizer, LancasterStemmer\n",
    "\n",
    "from sklearn.feature_extraction.text import TfidfVectorizer\n",
    "\n",
    "import pandas as pd\n",
    "from sklearn.metrics import classification_report\n",
    "from sklearn.ensemble import RandomForestClassifier\n",
    "\n",
    "nltk.download(\"stopwords\")\n",
    "nltk.download(\"wordnet\")\n",
    "pd.set_option('display.max_colwidth', None)\n"
   ]
  },
  {
   "cell_type": "code",
   "execution_count": 13,
   "id": "fa65d20c",
   "metadata": {},
   "outputs": [],
   "source": [
    "df = pd.read_csv(\"./Tweets.csv\")"
   ]
  },
  {
   "cell_type": "code",
   "execution_count": 14,
   "id": "75c07e64",
   "metadata": {},
   "outputs": [],
   "source": [
    "colums_to_drop = [\n",
    "    \"tweet_id\",\n",
    "    \"negativereason\",\n",
    "    \"airline_sentiment_gold\",\n",
    "    \"name\",\n",
    "    \"negativereason_gold\",\n",
    "    \"tweet_coord\",\n",
    "    \"tweet_created\",\n",
    "    \"tweet_location\",\n",
    "]"
   ]
  },
  {
   "cell_type": "code",
   "execution_count": 15,
   "id": "0af7a964",
   "metadata": {},
   "outputs": [],
   "source": [
    "df = df[[\"text\", \"airline_sentiment\"]]#.drop(colums_to_drop, axis=1)"
   ]
  },
  {
   "cell_type": "markdown",
   "id": "58b88a9c",
   "metadata": {},
   "source": [
    "### Remplacer les valeurs de la variable \"airline sentiment\" par des entiers égaux à 0, 1 et 2. "
   ]
  },
  {
   "cell_type": "code",
   "execution_count": 16,
   "id": "a1ac3de3",
   "metadata": {},
   "outputs": [],
   "source": [
    "df[\"target\"] = df[\"airline_sentiment\"].replace( {\"positive\": 2, \"neutral\": 1, \"negative\": 0} )"
   ]
  },
  {
   "cell_type": "code",
   "execution_count": 17,
   "id": "8358e2d3",
   "metadata": {},
   "outputs": [],
   "source": [
    "df = df.drop(\"airline_sentiment\", axis = 1)"
   ]
  },
  {
   "cell_type": "markdown",
   "id": "824d9c82",
   "metadata": {},
   "source": [
    "### Séparer le dataset en un jeu d'entraînement/validation et un jeu de test."
   ]
  },
  {
   "cell_type": "code",
   "execution_count": 18,
   "id": "cf0a659c",
   "metadata": {},
   "outputs": [],
   "source": [
    "X = df.drop(\"target\", axis=1)\n",
    "y = df[\"target\"]"
   ]
  },
  {
   "cell_type": "code",
   "execution_count": 19,
   "id": "d775c75e",
   "metadata": {},
   "outputs": [],
   "source": [
    "X_train, X_test, y_train, y_test = train_test_split(X, y, test_size=0.2, shuffle=True, stratify=y, random_state=314)"
   ]
  },
  {
   "cell_type": "code",
   "execution_count": 20,
   "id": "94cd2c99",
   "metadata": {},
   "outputs": [
    {
     "name": "stdout",
     "output_type": "stream",
     "text": [
      "(11712, 1)\n",
      "(2928, 1)\n",
      "(11712,)\n",
      "(2928,)\n"
     ]
    }
   ],
   "source": [
    "print(X_train.shape)\n",
    "print(X_test.shape)\n",
    "print(y_train.shape)\n",
    "print(y_test.shape)"
   ]
  },
  {
   "cell_type": "markdown",
   "id": "edc863f8",
   "metadata": {},
   "source": [
    "### Prétraitement de la variable \"text\""
   ]
  },
  {
   "cell_type": "code",
   "execution_count": 21,
   "id": "bdd26b59",
   "metadata": {},
   "outputs": [],
   "source": [
    "    \n",
    "def clean_text(text):\n",
    "    res = text\n",
    "    \n",
    "    res = res.lower()\n",
    "    \n",
    "    # Suppression des \"@...\"\n",
    "    res = re.sub(\"@\\S+\", \"\", res)\n",
    "    \n",
    "    # Suppression des urls\n",
    "    res = re.sub(\"http[^\\s]+|www\\S+\", \"\", res)\n",
    "    \n",
    "    # Suppression des #\n",
    "    res = res.replace(\"#\", \"\")\n",
    "    \n",
    "    # Suppression des nombres\n",
    "    res = re.sub(\"\\d+\", \"\", res)\n",
    "    \n",
    "    # Suppression des \"stop words\" (\"the\", \"in\", \"a\"...)\n",
    "    res = [word.strip() for word in res.split(\" \") if word not in stopwords.words(\"english\")]\n",
    "    \n",
    "    res = \" \".join(res)\n",
    "    \n",
    "    # Suppression des caractères spéciaux\n",
    "    # À faire AVANT la lemmatisation et racinisation\n",
    "    for c in \"#$%&\\'()*+,-./:;<=>?@[\\\\]^_`{|}~\":\n",
    "        res = res.replace(c, \"\")\n",
    "    \n",
    "    res = res.split(\" \")\n",
    "    \n",
    "    # Lemmatization\n",
    "    lemmatizer = WordNetLemmatizer()\n",
    "    res = [lemmatizer.lemmatize(word) for word in res]\n",
    "\n",
    "    # Racinisation\n",
    "    stemmer = LancasterStemmer()\n",
    "    res = [stemmer.stem(word) for word in res]\n",
    "    \n",
    "    res = \" \".join(res)\n",
    "\n",
    "    return res\n",
    "\n",
    "def clean_text_2(X):\n",
    "    ct = np.vectorize(clean_text)\n",
    "    return ct(X)"
   ]
  },
  {
   "cell_type": "code",
   "execution_count": 22,
   "id": "22a61285",
   "metadata": {},
   "outputs": [],
   "source": [
    "text_pipeline = Pipeline(steps = [\n",
    "    (\"clean\", FunctionTransformer(clean_text_2, feature_names_out = \"one-to-one\")),\n",
    "    (\"tfidf\", TfidfVectorizer())\n",
    "])"
   ]
  },
  {
   "cell_type": "code",
   "execution_count": 23,
   "id": "5f3ce1de",
   "metadata": {},
   "outputs": [],
   "source": [
    "preprocessor = ColumnTransformer(transformers=[\n",
    "    (\"text\", text_pipeline, \"text\"),\n",
    "    \n",
    "], remainder=\"passthrough\", verbose=True)\n"
   ]
  },
  {
   "cell_type": "code",
   "execution_count": 24,
   "id": "e14d8d11",
   "metadata": {},
   "outputs": [
    {
     "name": "stdout",
     "output_type": "stream",
     "text": [
      "[ColumnTransformer] .......... (1 of 1) Processing text, total=  28.2s\n"
     ]
    },
    {
     "data": {
      "text/html": [
       "<style>#sk-container-id-1 {color: black;}#sk-container-id-1 pre{padding: 0;}#sk-container-id-1 div.sk-toggleable {background-color: white;}#sk-container-id-1 label.sk-toggleable__label {cursor: pointer;display: block;width: 100%;margin-bottom: 0;padding: 0.3em;box-sizing: border-box;text-align: center;}#sk-container-id-1 label.sk-toggleable__label-arrow:before {content: \"▸\";float: left;margin-right: 0.25em;color: #696969;}#sk-container-id-1 label.sk-toggleable__label-arrow:hover:before {color: black;}#sk-container-id-1 div.sk-estimator:hover label.sk-toggleable__label-arrow:before {color: black;}#sk-container-id-1 div.sk-toggleable__content {max-height: 0;max-width: 0;overflow: hidden;text-align: left;background-color: #f0f8ff;}#sk-container-id-1 div.sk-toggleable__content pre {margin: 0.2em;color: black;border-radius: 0.25em;background-color: #f0f8ff;}#sk-container-id-1 input.sk-toggleable__control:checked~div.sk-toggleable__content {max-height: 200px;max-width: 100%;overflow: auto;}#sk-container-id-1 input.sk-toggleable__control:checked~label.sk-toggleable__label-arrow:before {content: \"▾\";}#sk-container-id-1 div.sk-estimator input.sk-toggleable__control:checked~label.sk-toggleable__label {background-color: #d4ebff;}#sk-container-id-1 div.sk-label input.sk-toggleable__control:checked~label.sk-toggleable__label {background-color: #d4ebff;}#sk-container-id-1 input.sk-hidden--visually {border: 0;clip: rect(1px 1px 1px 1px);clip: rect(1px, 1px, 1px, 1px);height: 1px;margin: -1px;overflow: hidden;padding: 0;position: absolute;width: 1px;}#sk-container-id-1 div.sk-estimator {font-family: monospace;background-color: #f0f8ff;border: 1px dotted black;border-radius: 0.25em;box-sizing: border-box;margin-bottom: 0.5em;}#sk-container-id-1 div.sk-estimator:hover {background-color: #d4ebff;}#sk-container-id-1 div.sk-parallel-item::after {content: \"\";width: 100%;border-bottom: 1px solid gray;flex-grow: 1;}#sk-container-id-1 div.sk-label:hover label.sk-toggleable__label {background-color: #d4ebff;}#sk-container-id-1 div.sk-serial::before {content: \"\";position: absolute;border-left: 1px solid gray;box-sizing: border-box;top: 0;bottom: 0;left: 50%;z-index: 0;}#sk-container-id-1 div.sk-serial {display: flex;flex-direction: column;align-items: center;background-color: white;padding-right: 0.2em;padding-left: 0.2em;position: relative;}#sk-container-id-1 div.sk-item {position: relative;z-index: 1;}#sk-container-id-1 div.sk-parallel {display: flex;align-items: stretch;justify-content: center;background-color: white;position: relative;}#sk-container-id-1 div.sk-item::before, #sk-container-id-1 div.sk-parallel-item::before {content: \"\";position: absolute;border-left: 1px solid gray;box-sizing: border-box;top: 0;bottom: 0;left: 50%;z-index: -1;}#sk-container-id-1 div.sk-parallel-item {display: flex;flex-direction: column;z-index: 1;position: relative;background-color: white;}#sk-container-id-1 div.sk-parallel-item:first-child::after {align-self: flex-end;width: 50%;}#sk-container-id-1 div.sk-parallel-item:last-child::after {align-self: flex-start;width: 50%;}#sk-container-id-1 div.sk-parallel-item:only-child::after {width: 0;}#sk-container-id-1 div.sk-dashed-wrapped {border: 1px dashed gray;margin: 0 0.4em 0.5em 0.4em;box-sizing: border-box;padding-bottom: 0.4em;background-color: white;}#sk-container-id-1 div.sk-label label {font-family: monospace;font-weight: bold;display: inline-block;line-height: 1.2em;}#sk-container-id-1 div.sk-label-container {text-align: center;}#sk-container-id-1 div.sk-container {/* jupyter's `normalize.less` sets `[hidden] { display: none; }` but bootstrap.min.css set `[hidden] { display: none !important; }` so we also need the `!important` here to be able to override the default hidden behavior on the sphinx rendered scikit-learn.org. See: https://github.com/scikit-learn/scikit-learn/issues/21755 */display: inline-block !important;position: relative;}#sk-container-id-1 div.sk-text-repr-fallback {display: none;}</style><div id=\"sk-container-id-1\" class=\"sk-top-container\"><div class=\"sk-text-repr-fallback\"><pre>ColumnTransformer(remainder=&#x27;passthrough&#x27;,\n",
       "                  transformers=[(&#x27;text&#x27;,\n",
       "                                 Pipeline(steps=[(&#x27;clean&#x27;,\n",
       "                                                  FunctionTransformer(feature_names_out=&#x27;one-to-one&#x27;,\n",
       "                                                                      func=&lt;function clean_text_2 at 0x785fb31f67a0&gt;)),\n",
       "                                                 (&#x27;tfidf&#x27;, TfidfVectorizer())]),\n",
       "                                 &#x27;text&#x27;)],\n",
       "                  verbose=True)</pre><b>In a Jupyter environment, please rerun this cell to show the HTML representation or trust the notebook. <br />On GitHub, the HTML representation is unable to render, please try loading this page with nbviewer.org.</b></div><div class=\"sk-container\" hidden><div class=\"sk-item sk-dashed-wrapped\"><div class=\"sk-label-container\"><div class=\"sk-label sk-toggleable\"><input class=\"sk-toggleable__control sk-hidden--visually\" id=\"sk-estimator-id-1\" type=\"checkbox\" ><label for=\"sk-estimator-id-1\" class=\"sk-toggleable__label sk-toggleable__label-arrow\">ColumnTransformer</label><div class=\"sk-toggleable__content\"><pre>ColumnTransformer(remainder=&#x27;passthrough&#x27;,\n",
       "                  transformers=[(&#x27;text&#x27;,\n",
       "                                 Pipeline(steps=[(&#x27;clean&#x27;,\n",
       "                                                  FunctionTransformer(feature_names_out=&#x27;one-to-one&#x27;,\n",
       "                                                                      func=&lt;function clean_text_2 at 0x785fb31f67a0&gt;)),\n",
       "                                                 (&#x27;tfidf&#x27;, TfidfVectorizer())]),\n",
       "                                 &#x27;text&#x27;)],\n",
       "                  verbose=True)</pre></div></div></div><div class=\"sk-parallel\"><div class=\"sk-parallel-item\"><div class=\"sk-item\"><div class=\"sk-label-container\"><div class=\"sk-label sk-toggleable\"><input class=\"sk-toggleable__control sk-hidden--visually\" id=\"sk-estimator-id-2\" type=\"checkbox\" ><label for=\"sk-estimator-id-2\" class=\"sk-toggleable__label sk-toggleable__label-arrow\">text</label><div class=\"sk-toggleable__content\"><pre>text</pre></div></div></div><div class=\"sk-serial\"><div class=\"sk-item\"><div class=\"sk-serial\"><div class=\"sk-item\"><div class=\"sk-estimator sk-toggleable\"><input class=\"sk-toggleable__control sk-hidden--visually\" id=\"sk-estimator-id-3\" type=\"checkbox\" ><label for=\"sk-estimator-id-3\" class=\"sk-toggleable__label sk-toggleable__label-arrow\">FunctionTransformer</label><div class=\"sk-toggleable__content\"><pre>FunctionTransformer(feature_names_out=&#x27;one-to-one&#x27;,\n",
       "                    func=&lt;function clean_text_2 at 0x785fb31f67a0&gt;)</pre></div></div></div><div class=\"sk-item\"><div class=\"sk-estimator sk-toggleable\"><input class=\"sk-toggleable__control sk-hidden--visually\" id=\"sk-estimator-id-4\" type=\"checkbox\" ><label for=\"sk-estimator-id-4\" class=\"sk-toggleable__label sk-toggleable__label-arrow\">TfidfVectorizer</label><div class=\"sk-toggleable__content\"><pre>TfidfVectorizer()</pre></div></div></div></div></div></div></div></div><div class=\"sk-parallel-item\"><div class=\"sk-item\"><div class=\"sk-label-container\"><div class=\"sk-label sk-toggleable\"><input class=\"sk-toggleable__control sk-hidden--visually\" id=\"sk-estimator-id-5\" type=\"checkbox\" ><label for=\"sk-estimator-id-5\" class=\"sk-toggleable__label sk-toggleable__label-arrow\">remainder</label><div class=\"sk-toggleable__content\"><pre>[]</pre></div></div></div><div class=\"sk-serial\"><div class=\"sk-item\"><div class=\"sk-estimator sk-toggleable\"><input class=\"sk-toggleable__control sk-hidden--visually\" id=\"sk-estimator-id-6\" type=\"checkbox\" ><label for=\"sk-estimator-id-6\" class=\"sk-toggleable__label sk-toggleable__label-arrow\">passthrough</label><div class=\"sk-toggleable__content\"><pre>passthrough</pre></div></div></div></div></div></div></div></div></div></div>"
      ],
      "text/plain": [
       "ColumnTransformer(remainder='passthrough',\n",
       "                  transformers=[('text',\n",
       "                                 Pipeline(steps=[('clean',\n",
       "                                                  FunctionTransformer(feature_names_out='one-to-one',\n",
       "                                                                      func=<function clean_text_2 at 0x785fb31f67a0>)),\n",
       "                                                 ('tfidf', TfidfVectorizer())]),\n",
       "                                 'text')],\n",
       "                  verbose=True)"
      ]
     },
     "execution_count": 24,
     "metadata": {},
     "output_type": "execute_result"
    }
   ],
   "source": [
    "preprocessor.fit(X_train)"
   ]
  },
  {
   "cell_type": "code",
   "execution_count": 34,
   "id": "08f2fb58",
   "metadata": {},
   "outputs": [],
   "source": [
    "pipeline = Pipeline(steps = [\n",
    "    (\"preprocessor\", preprocessor),\n",
    "    (\"rf\", RandomForestClassifier())\n",
    "])"
   ]
  },
  {
   "cell_type": "code",
   "execution_count": 35,
   "id": "672626f2",
   "metadata": {},
   "outputs": [
    {
     "name": "stdout",
     "output_type": "stream",
     "text": [
      "[ColumnTransformer] .......... (1 of 1) Processing text, total=  25.7s\n",
      "CPU times: user 38.3 s, sys: 2.52 s, total: 40.8 s\n",
      "Wall time: 42.6 s\n"
     ]
    },
    {
     "data": {
      "text/html": [
       "<style>#sk-container-id-2 {color: black;}#sk-container-id-2 pre{padding: 0;}#sk-container-id-2 div.sk-toggleable {background-color: white;}#sk-container-id-2 label.sk-toggleable__label {cursor: pointer;display: block;width: 100%;margin-bottom: 0;padding: 0.3em;box-sizing: border-box;text-align: center;}#sk-container-id-2 label.sk-toggleable__label-arrow:before {content: \"▸\";float: left;margin-right: 0.25em;color: #696969;}#sk-container-id-2 label.sk-toggleable__label-arrow:hover:before {color: black;}#sk-container-id-2 div.sk-estimator:hover label.sk-toggleable__label-arrow:before {color: black;}#sk-container-id-2 div.sk-toggleable__content {max-height: 0;max-width: 0;overflow: hidden;text-align: left;background-color: #f0f8ff;}#sk-container-id-2 div.sk-toggleable__content pre {margin: 0.2em;color: black;border-radius: 0.25em;background-color: #f0f8ff;}#sk-container-id-2 input.sk-toggleable__control:checked~div.sk-toggleable__content {max-height: 200px;max-width: 100%;overflow: auto;}#sk-container-id-2 input.sk-toggleable__control:checked~label.sk-toggleable__label-arrow:before {content: \"▾\";}#sk-container-id-2 div.sk-estimator input.sk-toggleable__control:checked~label.sk-toggleable__label {background-color: #d4ebff;}#sk-container-id-2 div.sk-label input.sk-toggleable__control:checked~label.sk-toggleable__label {background-color: #d4ebff;}#sk-container-id-2 input.sk-hidden--visually {border: 0;clip: rect(1px 1px 1px 1px);clip: rect(1px, 1px, 1px, 1px);height: 1px;margin: -1px;overflow: hidden;padding: 0;position: absolute;width: 1px;}#sk-container-id-2 div.sk-estimator {font-family: monospace;background-color: #f0f8ff;border: 1px dotted black;border-radius: 0.25em;box-sizing: border-box;margin-bottom: 0.5em;}#sk-container-id-2 div.sk-estimator:hover {background-color: #d4ebff;}#sk-container-id-2 div.sk-parallel-item::after {content: \"\";width: 100%;border-bottom: 1px solid gray;flex-grow: 1;}#sk-container-id-2 div.sk-label:hover label.sk-toggleable__label {background-color: #d4ebff;}#sk-container-id-2 div.sk-serial::before {content: \"\";position: absolute;border-left: 1px solid gray;box-sizing: border-box;top: 0;bottom: 0;left: 50%;z-index: 0;}#sk-container-id-2 div.sk-serial {display: flex;flex-direction: column;align-items: center;background-color: white;padding-right: 0.2em;padding-left: 0.2em;position: relative;}#sk-container-id-2 div.sk-item {position: relative;z-index: 1;}#sk-container-id-2 div.sk-parallel {display: flex;align-items: stretch;justify-content: center;background-color: white;position: relative;}#sk-container-id-2 div.sk-item::before, #sk-container-id-2 div.sk-parallel-item::before {content: \"\";position: absolute;border-left: 1px solid gray;box-sizing: border-box;top: 0;bottom: 0;left: 50%;z-index: -1;}#sk-container-id-2 div.sk-parallel-item {display: flex;flex-direction: column;z-index: 1;position: relative;background-color: white;}#sk-container-id-2 div.sk-parallel-item:first-child::after {align-self: flex-end;width: 50%;}#sk-container-id-2 div.sk-parallel-item:last-child::after {align-self: flex-start;width: 50%;}#sk-container-id-2 div.sk-parallel-item:only-child::after {width: 0;}#sk-container-id-2 div.sk-dashed-wrapped {border: 1px dashed gray;margin: 0 0.4em 0.5em 0.4em;box-sizing: border-box;padding-bottom: 0.4em;background-color: white;}#sk-container-id-2 div.sk-label label {font-family: monospace;font-weight: bold;display: inline-block;line-height: 1.2em;}#sk-container-id-2 div.sk-label-container {text-align: center;}#sk-container-id-2 div.sk-container {/* jupyter's `normalize.less` sets `[hidden] { display: none; }` but bootstrap.min.css set `[hidden] { display: none !important; }` so we also need the `!important` here to be able to override the default hidden behavior on the sphinx rendered scikit-learn.org. See: https://github.com/scikit-learn/scikit-learn/issues/21755 */display: inline-block !important;position: relative;}#sk-container-id-2 div.sk-text-repr-fallback {display: none;}</style><div id=\"sk-container-id-2\" class=\"sk-top-container\"><div class=\"sk-text-repr-fallback\"><pre>Pipeline(steps=[(&#x27;preprocessor&#x27;,\n",
       "                 ColumnTransformer(remainder=&#x27;passthrough&#x27;,\n",
       "                                   transformers=[(&#x27;text&#x27;,\n",
       "                                                  Pipeline(steps=[(&#x27;clean&#x27;,\n",
       "                                                                   FunctionTransformer(feature_names_out=&#x27;one-to-one&#x27;,\n",
       "                                                                                       func=&lt;function clean_text_2 at 0x785fb31f67a0&gt;)),\n",
       "                                                                  (&#x27;tfidf&#x27;,\n",
       "                                                                   TfidfVectorizer())]),\n",
       "                                                  &#x27;text&#x27;)],\n",
       "                                   verbose=True)),\n",
       "                (&#x27;rf&#x27;, RandomForestClassifier())])</pre><b>In a Jupyter environment, please rerun this cell to show the HTML representation or trust the notebook. <br />On GitHub, the HTML representation is unable to render, please try loading this page with nbviewer.org.</b></div><div class=\"sk-container\" hidden><div class=\"sk-item sk-dashed-wrapped\"><div class=\"sk-label-container\"><div class=\"sk-label sk-toggleable\"><input class=\"sk-toggleable__control sk-hidden--visually\" id=\"sk-estimator-id-7\" type=\"checkbox\" ><label for=\"sk-estimator-id-7\" class=\"sk-toggleable__label sk-toggleable__label-arrow\">Pipeline</label><div class=\"sk-toggleable__content\"><pre>Pipeline(steps=[(&#x27;preprocessor&#x27;,\n",
       "                 ColumnTransformer(remainder=&#x27;passthrough&#x27;,\n",
       "                                   transformers=[(&#x27;text&#x27;,\n",
       "                                                  Pipeline(steps=[(&#x27;clean&#x27;,\n",
       "                                                                   FunctionTransformer(feature_names_out=&#x27;one-to-one&#x27;,\n",
       "                                                                                       func=&lt;function clean_text_2 at 0x785fb31f67a0&gt;)),\n",
       "                                                                  (&#x27;tfidf&#x27;,\n",
       "                                                                   TfidfVectorizer())]),\n",
       "                                                  &#x27;text&#x27;)],\n",
       "                                   verbose=True)),\n",
       "                (&#x27;rf&#x27;, RandomForestClassifier())])</pre></div></div></div><div class=\"sk-serial\"><div class=\"sk-item sk-dashed-wrapped\"><div class=\"sk-label-container\"><div class=\"sk-label sk-toggleable\"><input class=\"sk-toggleable__control sk-hidden--visually\" id=\"sk-estimator-id-8\" type=\"checkbox\" ><label for=\"sk-estimator-id-8\" class=\"sk-toggleable__label sk-toggleable__label-arrow\">preprocessor: ColumnTransformer</label><div class=\"sk-toggleable__content\"><pre>ColumnTransformer(remainder=&#x27;passthrough&#x27;,\n",
       "                  transformers=[(&#x27;text&#x27;,\n",
       "                                 Pipeline(steps=[(&#x27;clean&#x27;,\n",
       "                                                  FunctionTransformer(feature_names_out=&#x27;one-to-one&#x27;,\n",
       "                                                                      func=&lt;function clean_text_2 at 0x785fb31f67a0&gt;)),\n",
       "                                                 (&#x27;tfidf&#x27;, TfidfVectorizer())]),\n",
       "                                 &#x27;text&#x27;)],\n",
       "                  verbose=True)</pre></div></div></div><div class=\"sk-parallel\"><div class=\"sk-parallel-item\"><div class=\"sk-item\"><div class=\"sk-label-container\"><div class=\"sk-label sk-toggleable\"><input class=\"sk-toggleable__control sk-hidden--visually\" id=\"sk-estimator-id-9\" type=\"checkbox\" ><label for=\"sk-estimator-id-9\" class=\"sk-toggleable__label sk-toggleable__label-arrow\">text</label><div class=\"sk-toggleable__content\"><pre>text</pre></div></div></div><div class=\"sk-serial\"><div class=\"sk-item\"><div class=\"sk-serial\"><div class=\"sk-item\"><div class=\"sk-estimator sk-toggleable\"><input class=\"sk-toggleable__control sk-hidden--visually\" id=\"sk-estimator-id-10\" type=\"checkbox\" ><label for=\"sk-estimator-id-10\" class=\"sk-toggleable__label sk-toggleable__label-arrow\">FunctionTransformer</label><div class=\"sk-toggleable__content\"><pre>FunctionTransformer(feature_names_out=&#x27;one-to-one&#x27;,\n",
       "                    func=&lt;function clean_text_2 at 0x785fb31f67a0&gt;)</pre></div></div></div><div class=\"sk-item\"><div class=\"sk-estimator sk-toggleable\"><input class=\"sk-toggleable__control sk-hidden--visually\" id=\"sk-estimator-id-11\" type=\"checkbox\" ><label for=\"sk-estimator-id-11\" class=\"sk-toggleable__label sk-toggleable__label-arrow\">TfidfVectorizer</label><div class=\"sk-toggleable__content\"><pre>TfidfVectorizer()</pre></div></div></div></div></div></div></div></div><div class=\"sk-parallel-item\"><div class=\"sk-item\"><div class=\"sk-label-container\"><div class=\"sk-label sk-toggleable\"><input class=\"sk-toggleable__control sk-hidden--visually\" id=\"sk-estimator-id-12\" type=\"checkbox\" ><label for=\"sk-estimator-id-12\" class=\"sk-toggleable__label sk-toggleable__label-arrow\">remainder</label><div class=\"sk-toggleable__content\"><pre>[]</pre></div></div></div><div class=\"sk-serial\"><div class=\"sk-item\"><div class=\"sk-estimator sk-toggleable\"><input class=\"sk-toggleable__control sk-hidden--visually\" id=\"sk-estimator-id-13\" type=\"checkbox\" ><label for=\"sk-estimator-id-13\" class=\"sk-toggleable__label sk-toggleable__label-arrow\">passthrough</label><div class=\"sk-toggleable__content\"><pre>passthrough</pre></div></div></div></div></div></div></div></div><div class=\"sk-item\"><div class=\"sk-estimator sk-toggleable\"><input class=\"sk-toggleable__control sk-hidden--visually\" id=\"sk-estimator-id-14\" type=\"checkbox\" ><label for=\"sk-estimator-id-14\" class=\"sk-toggleable__label sk-toggleable__label-arrow\">RandomForestClassifier</label><div class=\"sk-toggleable__content\"><pre>RandomForestClassifier()</pre></div></div></div></div></div></div></div>"
      ],
      "text/plain": [
       "Pipeline(steps=[('preprocessor',\n",
       "                 ColumnTransformer(remainder='passthrough',\n",
       "                                   transformers=[('text',\n",
       "                                                  Pipeline(steps=[('clean',\n",
       "                                                                   FunctionTransformer(feature_names_out='one-to-one',\n",
       "                                                                                       func=<function clean_text_2 at 0x785fb31f67a0>)),\n",
       "                                                                  ('tfidf',\n",
       "                                                                   TfidfVectorizer())]),\n",
       "                                                  'text')],\n",
       "                                   verbose=True)),\n",
       "                ('rf', RandomForestClassifier())])"
      ]
     },
     "execution_count": 35,
     "metadata": {},
     "output_type": "execute_result"
    }
   ],
   "source": [
    "%%time\n",
    "pipeline.fit(X_train, y_train)"
   ]
  },
  {
   "cell_type": "code",
   "execution_count": 47,
   "id": "5c5b6532",
   "metadata": {},
   "outputs": [],
   "source": [
    "sentences = [\n",
    "    \"Just touched down after an amazing flight! ✈️ The views from above never cease to amaze me. #FlyingHigh\",\n",
    "    \"Neutral flight experience today. Smooth journey, but nothing particularly noteworthy. #Travel\",\n",
    "    \"Feeling refreshed after a peaceful flight. Thankful for the opportunity to relax above the clouds. ☁️✈️ #TravelGoals\",\n",
    "    \"Disappointed with the lack of legroom on this flight. Can barely stretch out! 😕 #TallPeopleProblems\",\n",
    "    \"Another successful flight in the books! Thankful for the attentive cabin crew and smooth landing. #TravelTuesday\",\n",
    "    \"Neutral vibes on this flight. Can't complain, can't rave. Just cruising at 30,000 feet. #FlyLife\",\n",
    "    \"Flight delayed again? Come on, airline! You're killing my schedule here. 😒 #TravelWoes\",\n",
    "    \"Positively surprised by the in-flight entertainment options. Made the journey fly by! 🎬✈️ #MovieBuff\",\n",
    "    \"Mediocre service on this flight. Could definitely use some improvement in the hospitality department. #CustomerExperience\",\n",
    "    \"That breathtaking sunrise view from the plane window made waking up early totally worth it. 🌅✈️ #MorningFlight\",\n",
    "    \"Feeling a bit queasy after some turbulence on the flight. Hope it smooths out soon! 🤢 #MotionSickness\",\n",
    "    \"Just landed in my favorite city after a smooth flight! Let the adventures begin. 🌇✈️ #Wanderlust\",\n",
    "    \"Neutral flight experience - neither remarkable nor disappointing. Just another day in the skies. #TravelLife\",\n",
    "    \"Missed my connection due to a delayed flight. Not the smooth travel day I was hoping for. 😩 #TravelProblems\",\n",
    "    \"Absolutely thrilled with the upgraded seat on this flight! Talk about flying in style. 😎✈️ #LuxuryTravel\",\n",
    "    \"Neutral flight today, but the sunset from above the clouds was breathtaking. 🌇✈️ #SkyViews\",\n",
    "    \"Negative experience with lost luggage on this flight. Hoping the airline can sort it out ASAP. 😤 #LostAndFound\",\n",
    "    \"Positive vibes only on this flight! Grateful for the opportunity to explore new destinations. #AdventureTime\",\n",
    "    \"Disappointed by the lack of vegetarian meal options on this flight. Come on, airline, it's 2024! 🥗✈️ #DietaryNeeds\",\n",
    "    \"Smooth takeoff, smooth landing. Can't ask for much more from a flight! #TravelBliss\",\n",
    "]"
   ]
  },
  {
   "cell_type": "code",
   "execution_count": 48,
   "id": "b1aed456",
   "metadata": {},
   "outputs": [],
   "source": [
    "df_sentences = pd.DataFrame({\"text\": sentences})"
   ]
  },
  {
   "cell_type": "code",
   "execution_count": 59,
   "id": "78b306f0",
   "metadata": {},
   "outputs": [],
   "source": [
    "y_pred = pipeline.predict(X_test)"
   ]
  },
  {
   "cell_type": "code",
   "execution_count": 61,
   "id": "e384f697",
   "metadata": {},
   "outputs": [
    {
     "name": "stdout",
     "output_type": "stream",
     "text": [
      "              precision    recall  f1-score   support\n",
      "\n",
      "           0       0.79      0.93      0.85      1835\n",
      "           1       0.64      0.42      0.51       620\n",
      "           2       0.76      0.57      0.65       473\n",
      "\n",
      "    accuracy                           0.76      2928\n",
      "   macro avg       0.73      0.64      0.67      2928\n",
      "weighted avg       0.75      0.76      0.75      2928\n",
      "\n"
     ]
    }
   ],
   "source": [
    "print(classification_report(y_test, y_pred))"
   ]
  },
  {
   "cell_type": "code",
   "execution_count": 51,
   "id": "f5ab8dd0",
   "metadata": {},
   "outputs": [],
   "source": [
    "sentiments = {0: \"negative\",\n",
    "              1: \"neutre\",\n",
    "              2: \"positive\"\n",
    "             }"
   ]
  },
  {
   "cell_type": "code",
   "execution_count": 56,
   "id": "8d5ac7ea",
   "metadata": {},
   "outputs": [
    {
     "name": "stdout",
     "output_type": "stream",
     "text": [
      "Just touched down after an amazing flight! ✈️ The views from above never cease to amaze me. #FlyingHigh\n",
      "Cette phrase semble negative.\n",
      "\n",
      "Neutral flight experience today. Smooth journey, but nothing particularly noteworthy. #Travel\n",
      "Cette phrase semble negative.\n",
      "\n",
      "Feeling refreshed after a peaceful flight. Thankful for the opportunity to relax above the clouds. ☁️✈️ #TravelGoals\n",
      "Cette phrase semble positive.\n",
      "\n",
      "Disappointed with the lack of legroom on this flight. Can barely stretch out! 😕 #TallPeopleProblems\n",
      "Cette phrase semble negative.\n",
      "\n",
      "Another successful flight in the books! Thankful for the attentive cabin crew and smooth landing. #TravelTuesday\n",
      "Cette phrase semble positive.\n",
      "\n",
      "Neutral vibes on this flight. Can't complain, can't rave. Just cruising at 30,000 feet. #FlyLife\n",
      "Cette phrase semble negative.\n",
      "\n",
      "Flight delayed again? Come on, airline! You're killing my schedule here. 😒 #TravelWoes\n",
      "Cette phrase semble negative.\n",
      "\n",
      "Positively surprised by the in-flight entertainment options. Made the journey fly by! 🎬✈️ #MovieBuff\n",
      "Cette phrase semble neutre.\n",
      "\n",
      "Mediocre service on this flight. Could definitely use some improvement in the hospitality department. #CustomerExperience\n",
      "Cette phrase semble negative.\n",
      "\n",
      "That breathtaking sunrise view from the plane window made waking up early totally worth it. 🌅✈️ #MorningFlight\n",
      "Cette phrase semble negative.\n",
      "\n",
      "Feeling a bit queasy after some turbulence on the flight. Hope it smooths out soon! 🤢 #MotionSickness\n",
      "Cette phrase semble negative.\n",
      "\n",
      "Just landed in my favorite city after a smooth flight! Let the adventures begin. 🌇✈️ #Wanderlust\n",
      "Cette phrase semble negative.\n",
      "\n",
      "Neutral flight experience - neither remarkable nor disappointing. Just another day in the skies. #TravelLife\n",
      "Cette phrase semble negative.\n",
      "\n",
      "Missed my connection due to a delayed flight. Not the smooth travel day I was hoping for. 😩 #TravelProblems\n",
      "Cette phrase semble negative.\n",
      "\n",
      "Absolutely thrilled with the upgraded seat on this flight! Talk about flying in style. 😎✈️ #LuxuryTravel\n",
      "Cette phrase semble negative.\n",
      "\n",
      "Neutral flight today, but the sunset from above the clouds was breathtaking. 🌇✈️ #SkyViews\n",
      "Cette phrase semble negative.\n",
      "\n",
      "Negative experience with lost luggage on this flight. Hoping the airline can sort it out ASAP. 😤 #LostAndFound\n",
      "Cette phrase semble negative.\n",
      "\n",
      "Positive vibes only on this flight! Grateful for the opportunity to explore new destinations. #AdventureTime\n",
      "Cette phrase semble negative.\n",
      "\n",
      "Disappointed by the lack of vegetarian meal options on this flight. Come on, airline, it's 2024! 🥗✈️ #DietaryNeeds\n",
      "Cette phrase semble negative.\n",
      "\n",
      "Smooth takeoff, smooth landing. Can't ask for much more from a flight! #TravelBliss\n",
      "Cette phrase semble negative.\n",
      "\n"
     ]
    }
   ],
   "source": [
    "for i in range(len(sentences)):\n",
    "    print(sentences[i])\n",
    "    print(f\"Cette phrase semble {sentiments[y_pred[i]]}.\")\n",
    "    print()"
   ]
  }
 ],
 "metadata": {
  "kernelspec": {
   "display_name": "Python 3 (ipykernel)",
   "language": "python",
   "name": "python3"
  },
  "language_info": {
   "codemirror_mode": {
    "name": "ipython",
    "version": 3
   },
   "file_extension": ".py",
   "mimetype": "text/x-python",
   "name": "python",
   "nbconvert_exporter": "python",
   "pygments_lexer": "ipython3",
   "version": "3.10.12"
  }
 },
 "nbformat": 4,
 "nbformat_minor": 5
}
