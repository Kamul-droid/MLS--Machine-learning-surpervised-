{
 "cells": [
  {
   "cell_type": "code",
   "execution_count": 11,
   "id": "c1c85dea",
   "metadata": {},
   "outputs": [],
   "source": [
    "import pandas as pd\n",
    "import numpy as np\n",
    "from sklearn.neighbors import KNeighborsClassifier\n",
    "from sklearn.metrics import (\n",
    "    accuracy_score,\n",
    "    f1_score,\n",
    "    precision_score,\n",
    "    recall_score,\n",
    "    confusion_matrix,\n",
    "    ConfusionMatrixDisplay,\n",
    "    classification_report,\n",
    "    roc_curve,\n",
    "    RocCurveDisplay,\n",
    "    PrecisionRecallDisplay\n",
    ")\n",
    "from sklearn.model_selection import GridSearchCV, RandomizedSearchCV"
   ]
  },
  {
   "cell_type": "code",
   "execution_count": 12,
   "id": "3988d245",
   "metadata": {},
   "outputs": [],
   "source": [
    "X_train = pd.read_csv(\"./X_train_clean_knn.csv\")\n",
    "X_test = pd.read_csv(\"./X_test_clean_knn.csv\")\n",
    "y_train = pd.read_csv(\"./y_train_knn.csv\")\n",
    "y_test = pd.read_csv(\"./y_test_knn.csv\")"
   ]
  },
  {
   "cell_type": "code",
   "execution_count": 13,
   "id": "3a6dc469",
   "metadata": {},
   "outputs": [
    {
     "name": "stdout",
     "output_type": "stream",
     "text": [
      "(242, 17)\n",
      "(61, 17)\n",
      "(242, 1)\n",
      "(61, 1)\n"
     ]
    }
   ],
   "source": [
    "print(X_train.shape)\n",
    "print(X_test.shape)\n",
    "print(y_train.shape)\n",
    "print(y_test.shape)"
   ]
  },
  {
   "cell_type": "markdown",
   "id": "7e4eb27a",
   "metadata": {},
   "source": [
    "# Classification k-NN"
   ]
  },
  {
   "cell_type": "code",
   "execution_count": 14,
   "id": "85c2e1db",
   "metadata": {},
   "outputs": [],
   "source": [
    "#hyperparameters_knn\n",
    "n_neighbors=5\n",
    "weights='uniform'\n",
    "algorithm='auto'\n",
    "leaf_size=30\n",
    "p=2\n",
    "metric='minkowski'"
   ]
  },
  {
   "cell_type": "code",
   "execution_count": 15,
   "id": "cca747a9",
   "metadata": {},
   "outputs": [],
   "source": [
    "model_knn = KNeighborsClassifier(\n",
    "    n_neighbors=n_neighbors,\n",
    "    weights=weights,\n",
    "    algorithm=algorithm,\n",
    "    leaf_size=leaf_size,\n",
    "    p=p,\n",
    "    metric=metric,\n",
    ")"
   ]
  },
  {
   "cell_type": "code",
   "execution_count": 16,
   "id": "2c326ec6",
   "metadata": {},
   "outputs": [
    {
     "data": {
      "text/html": [
       "<style>#sk-container-id-3 {color: black;}#sk-container-id-3 pre{padding: 0;}#sk-container-id-3 div.sk-toggleable {background-color: white;}#sk-container-id-3 label.sk-toggleable__label {cursor: pointer;display: block;width: 100%;margin-bottom: 0;padding: 0.3em;box-sizing: border-box;text-align: center;}#sk-container-id-3 label.sk-toggleable__label-arrow:before {content: \"▸\";float: left;margin-right: 0.25em;color: #696969;}#sk-container-id-3 label.sk-toggleable__label-arrow:hover:before {color: black;}#sk-container-id-3 div.sk-estimator:hover label.sk-toggleable__label-arrow:before {color: black;}#sk-container-id-3 div.sk-toggleable__content {max-height: 0;max-width: 0;overflow: hidden;text-align: left;background-color: #f0f8ff;}#sk-container-id-3 div.sk-toggleable__content pre {margin: 0.2em;color: black;border-radius: 0.25em;background-color: #f0f8ff;}#sk-container-id-3 input.sk-toggleable__control:checked~div.sk-toggleable__content {max-height: 200px;max-width: 100%;overflow: auto;}#sk-container-id-3 input.sk-toggleable__control:checked~label.sk-toggleable__label-arrow:before {content: \"▾\";}#sk-container-id-3 div.sk-estimator input.sk-toggleable__control:checked~label.sk-toggleable__label {background-color: #d4ebff;}#sk-container-id-3 div.sk-label input.sk-toggleable__control:checked~label.sk-toggleable__label {background-color: #d4ebff;}#sk-container-id-3 input.sk-hidden--visually {border: 0;clip: rect(1px 1px 1px 1px);clip: rect(1px, 1px, 1px, 1px);height: 1px;margin: -1px;overflow: hidden;padding: 0;position: absolute;width: 1px;}#sk-container-id-3 div.sk-estimator {font-family: monospace;background-color: #f0f8ff;border: 1px dotted black;border-radius: 0.25em;box-sizing: border-box;margin-bottom: 0.5em;}#sk-container-id-3 div.sk-estimator:hover {background-color: #d4ebff;}#sk-container-id-3 div.sk-parallel-item::after {content: \"\";width: 100%;border-bottom: 1px solid gray;flex-grow: 1;}#sk-container-id-3 div.sk-label:hover label.sk-toggleable__label {background-color: #d4ebff;}#sk-container-id-3 div.sk-serial::before {content: \"\";position: absolute;border-left: 1px solid gray;box-sizing: border-box;top: 0;bottom: 0;left: 50%;z-index: 0;}#sk-container-id-3 div.sk-serial {display: flex;flex-direction: column;align-items: center;background-color: white;padding-right: 0.2em;padding-left: 0.2em;position: relative;}#sk-container-id-3 div.sk-item {position: relative;z-index: 1;}#sk-container-id-3 div.sk-parallel {display: flex;align-items: stretch;justify-content: center;background-color: white;position: relative;}#sk-container-id-3 div.sk-item::before, #sk-container-id-3 div.sk-parallel-item::before {content: \"\";position: absolute;border-left: 1px solid gray;box-sizing: border-box;top: 0;bottom: 0;left: 50%;z-index: -1;}#sk-container-id-3 div.sk-parallel-item {display: flex;flex-direction: column;z-index: 1;position: relative;background-color: white;}#sk-container-id-3 div.sk-parallel-item:first-child::after {align-self: flex-end;width: 50%;}#sk-container-id-3 div.sk-parallel-item:last-child::after {align-self: flex-start;width: 50%;}#sk-container-id-3 div.sk-parallel-item:only-child::after {width: 0;}#sk-container-id-3 div.sk-dashed-wrapped {border: 1px dashed gray;margin: 0 0.4em 0.5em 0.4em;box-sizing: border-box;padding-bottom: 0.4em;background-color: white;}#sk-container-id-3 div.sk-label label {font-family: monospace;font-weight: bold;display: inline-block;line-height: 1.2em;}#sk-container-id-3 div.sk-label-container {text-align: center;}#sk-container-id-3 div.sk-container {/* jupyter's `normalize.less` sets `[hidden] { display: none; }` but bootstrap.min.css set `[hidden] { display: none !important; }` so we also need the `!important` here to be able to override the default hidden behavior on the sphinx rendered scikit-learn.org. See: https://github.com/scikit-learn/scikit-learn/issues/21755 */display: inline-block !important;position: relative;}#sk-container-id-3 div.sk-text-repr-fallback {display: none;}</style><div id=\"sk-container-id-3\" class=\"sk-top-container\"><div class=\"sk-text-repr-fallback\"><pre>KNeighborsClassifier()</pre><b>In a Jupyter environment, please rerun this cell to show the HTML representation or trust the notebook. <br />On GitHub, the HTML representation is unable to render, please try loading this page with nbviewer.org.</b></div><div class=\"sk-container\" hidden><div class=\"sk-item\"><div class=\"sk-estimator sk-toggleable\"><input class=\"sk-toggleable__control sk-hidden--visually\" id=\"sk-estimator-id-3\" type=\"checkbox\" checked><label for=\"sk-estimator-id-3\" class=\"sk-toggleable__label sk-toggleable__label-arrow\">KNeighborsClassifier</label><div class=\"sk-toggleable__content\"><pre>KNeighborsClassifier()</pre></div></div></div></div></div>"
      ],
      "text/plain": [
       "KNeighborsClassifier()"
      ]
     },
     "execution_count": 16,
     "metadata": {},
     "output_type": "execute_result"
    }
   ],
   "source": [
    "model_knn"
   ]
  },
  {
   "cell_type": "markdown",
   "id": "43875288",
   "metadata": {},
   "source": [
    "#### Entraînement du modèle"
   ]
  },
  {
   "cell_type": "code",
   "execution_count": 17,
   "id": "8c07fd6f",
   "metadata": {},
   "outputs": [
    {
     "data": {
      "text/html": [
       "<style>#sk-container-id-4 {color: black;}#sk-container-id-4 pre{padding: 0;}#sk-container-id-4 div.sk-toggleable {background-color: white;}#sk-container-id-4 label.sk-toggleable__label {cursor: pointer;display: block;width: 100%;margin-bottom: 0;padding: 0.3em;box-sizing: border-box;text-align: center;}#sk-container-id-4 label.sk-toggleable__label-arrow:before {content: \"▸\";float: left;margin-right: 0.25em;color: #696969;}#sk-container-id-4 label.sk-toggleable__label-arrow:hover:before {color: black;}#sk-container-id-4 div.sk-estimator:hover label.sk-toggleable__label-arrow:before {color: black;}#sk-container-id-4 div.sk-toggleable__content {max-height: 0;max-width: 0;overflow: hidden;text-align: left;background-color: #f0f8ff;}#sk-container-id-4 div.sk-toggleable__content pre {margin: 0.2em;color: black;border-radius: 0.25em;background-color: #f0f8ff;}#sk-container-id-4 input.sk-toggleable__control:checked~div.sk-toggleable__content {max-height: 200px;max-width: 100%;overflow: auto;}#sk-container-id-4 input.sk-toggleable__control:checked~label.sk-toggleable__label-arrow:before {content: \"▾\";}#sk-container-id-4 div.sk-estimator input.sk-toggleable__control:checked~label.sk-toggleable__label {background-color: #d4ebff;}#sk-container-id-4 div.sk-label input.sk-toggleable__control:checked~label.sk-toggleable__label {background-color: #d4ebff;}#sk-container-id-4 input.sk-hidden--visually {border: 0;clip: rect(1px 1px 1px 1px);clip: rect(1px, 1px, 1px, 1px);height: 1px;margin: -1px;overflow: hidden;padding: 0;position: absolute;width: 1px;}#sk-container-id-4 div.sk-estimator {font-family: monospace;background-color: #f0f8ff;border: 1px dotted black;border-radius: 0.25em;box-sizing: border-box;margin-bottom: 0.5em;}#sk-container-id-4 div.sk-estimator:hover {background-color: #d4ebff;}#sk-container-id-4 div.sk-parallel-item::after {content: \"\";width: 100%;border-bottom: 1px solid gray;flex-grow: 1;}#sk-container-id-4 div.sk-label:hover label.sk-toggleable__label {background-color: #d4ebff;}#sk-container-id-4 div.sk-serial::before {content: \"\";position: absolute;border-left: 1px solid gray;box-sizing: border-box;top: 0;bottom: 0;left: 50%;z-index: 0;}#sk-container-id-4 div.sk-serial {display: flex;flex-direction: column;align-items: center;background-color: white;padding-right: 0.2em;padding-left: 0.2em;position: relative;}#sk-container-id-4 div.sk-item {position: relative;z-index: 1;}#sk-container-id-4 div.sk-parallel {display: flex;align-items: stretch;justify-content: center;background-color: white;position: relative;}#sk-container-id-4 div.sk-item::before, #sk-container-id-4 div.sk-parallel-item::before {content: \"\";position: absolute;border-left: 1px solid gray;box-sizing: border-box;top: 0;bottom: 0;left: 50%;z-index: -1;}#sk-container-id-4 div.sk-parallel-item {display: flex;flex-direction: column;z-index: 1;position: relative;background-color: white;}#sk-container-id-4 div.sk-parallel-item:first-child::after {align-self: flex-end;width: 50%;}#sk-container-id-4 div.sk-parallel-item:last-child::after {align-self: flex-start;width: 50%;}#sk-container-id-4 div.sk-parallel-item:only-child::after {width: 0;}#sk-container-id-4 div.sk-dashed-wrapped {border: 1px dashed gray;margin: 0 0.4em 0.5em 0.4em;box-sizing: border-box;padding-bottom: 0.4em;background-color: white;}#sk-container-id-4 div.sk-label label {font-family: monospace;font-weight: bold;display: inline-block;line-height: 1.2em;}#sk-container-id-4 div.sk-label-container {text-align: center;}#sk-container-id-4 div.sk-container {/* jupyter's `normalize.less` sets `[hidden] { display: none; }` but bootstrap.min.css set `[hidden] { display: none !important; }` so we also need the `!important` here to be able to override the default hidden behavior on the sphinx rendered scikit-learn.org. See: https://github.com/scikit-learn/scikit-learn/issues/21755 */display: inline-block !important;position: relative;}#sk-container-id-4 div.sk-text-repr-fallback {display: none;}</style><div id=\"sk-container-id-4\" class=\"sk-top-container\"><div class=\"sk-text-repr-fallback\"><pre>KNeighborsClassifier()</pre><b>In a Jupyter environment, please rerun this cell to show the HTML representation or trust the notebook. <br />On GitHub, the HTML representation is unable to render, please try loading this page with nbviewer.org.</b></div><div class=\"sk-container\" hidden><div class=\"sk-item\"><div class=\"sk-estimator sk-toggleable\"><input class=\"sk-toggleable__control sk-hidden--visually\" id=\"sk-estimator-id-4\" type=\"checkbox\" checked><label for=\"sk-estimator-id-4\" class=\"sk-toggleable__label sk-toggleable__label-arrow\">KNeighborsClassifier</label><div class=\"sk-toggleable__content\"><pre>KNeighborsClassifier()</pre></div></div></div></div></div>"
      ],
      "text/plain": [
       "KNeighborsClassifier()"
      ]
     },
     "execution_count": 17,
     "metadata": {},
     "output_type": "execute_result"
    }
   ],
   "source": [
    "model_knn.fit(X_train.values, y_train.values.ravel())"
   ]
  },
  {
   "cell_type": "markdown",
   "id": "9e0370df",
   "metadata": {},
   "source": [
    "#### Prédictions\n",
    "https://github.com/scikit-learn/scikit-learn/issues/26768  \n",
    "Bug avec scikit-learn 1.3.0 : predict ne prend en argument qu'un numpy array et non un pandas DataFrame.  \n",
    "Avec scikit-learn < 1.3.0:\n",
    "```\n",
    "y_pred = model_knn.predict(X_test)\n",
    "```"
   ]
  },
  {
   "cell_type": "code",
   "execution_count": 18,
   "id": "202a69b4",
   "metadata": {},
   "outputs": [],
   "source": [
    "y_pred = model_knn.predict(X_test.values)"
   ]
  },
  {
   "cell_type": "markdown",
   "id": "bf998173",
   "metadata": {},
   "source": [
    "#### Évaluation du modèle"
   ]
  },
  {
   "cell_type": "code",
   "execution_count": 19,
   "id": "4e92f009",
   "metadata": {},
   "outputs": [
    {
     "data": {
      "text/plain": [
       "0.819672131147541"
      ]
     },
     "execution_count": 19,
     "metadata": {},
     "output_type": "execute_result"
    }
   ],
   "source": [
    "accuracy_score(y_pred, y_test)"
   ]
  },
  {
   "cell_type": "markdown",
   "id": "fe426071",
   "metadata": {},
   "source": [
    "## Recherche des meilleurs hyperparamètres avec RandomizedSearchCV"
   ]
  },
  {
   "cell_type": "code",
   "execution_count": 27,
   "id": "1752a6c1",
   "metadata": {},
   "outputs": [],
   "source": [
    "\"\"\"\n",
    "hyperparameters = {\n",
    "    \"n_neighbors\" : list(range(3,20)),\n",
    "    \"weights\"     : [\"uniform\", \"distance\"],\n",
    "    \"algorithm\"   : [\"ball_tree\", \"kd_tree\"],\n",
    "    \"p\"           : list(range(2,5))\n",
    "}\n",
    "\"\"\"\n",
    "\n",
    "# Avec gestion des combinaisons non valides d'hyperparamètres :\n",
    "hyperparameters = [\n",
    "    {\n",
    "        \"n_neighbors\" : list(range(3,20)),\n",
    "        \"weights\"     : [\"uniform\", \"distance\"],\n",
    "        \"algorithm\"   : [\"ball_tree\", \"kd_tree\"],\n",
    "        \"p\"           : list(range(2,5)),\n",
    "        \"metric\"      : [\"minkowski\"]\n",
    "    },\n",
    "    {\n",
    "        \"n_neighbors\" : list(range(3,20)),\n",
    "        \"weights\"     : [\"uniform\", \"distance\"],\n",
    "        \"algorithm\"   : [\"ball_tree\", \"kd_tree\"],\n",
    "        \"metric\"      : [\"manhattan\"]\n",
    "    },\n",
    "]"
   ]
  },
  {
   "cell_type": "code",
   "execution_count": 28,
   "id": "ceefafb9",
   "metadata": {},
   "outputs": [],
   "source": [
    "gscv_knn = RandomizedSearchCV(\n",
    "    estimator = model_knn,\n",
    "    param_distributions = hyperparameters,\n",
    "    cv = 5,\n",
    "    scoring = \"f1\",\n",
    "    verbose = 4\n",
    ")"
   ]
  },
  {
   "cell_type": "code",
   "execution_count": 29,
   "id": "7c8efeb7",
   "metadata": {},
   "outputs": [
    {
     "name": "stdout",
     "output_type": "stream",
     "text": [
      "Fitting 5 folds for each of 10 candidates, totalling 50 fits\n",
      "[CV 1/5] END algorithm=ball_tree, metric=minkowski, n_neighbors=4, p=2, weights=distance;, score=0.762 total time=   0.0s\n",
      "[CV 2/5] END algorithm=ball_tree, metric=minkowski, n_neighbors=4, p=2, weights=distance;, score=0.837 total time=   0.0s\n",
      "[CV 3/5] END algorithm=ball_tree, metric=minkowski, n_neighbors=4, p=2, weights=distance;, score=0.756 total time=   0.0s\n",
      "[CV 4/5] END algorithm=ball_tree, metric=minkowski, n_neighbors=4, p=2, weights=distance;, score=0.826 total time=   0.0s\n",
      "[CV 5/5] END algorithm=ball_tree, metric=minkowski, n_neighbors=4, p=2, weights=distance;, score=0.773 total time=   0.0s\n",
      "[CV 1/5] END algorithm=kd_tree, metric=minkowski, n_neighbors=17, p=2, weights=distance;, score=0.714 total time=   0.0s\n",
      "[CV 2/5] END algorithm=kd_tree, metric=minkowski, n_neighbors=17, p=2, weights=distance;, score=0.864 total time=   0.0s\n",
      "[CV 3/5] END algorithm=kd_tree, metric=minkowski, n_neighbors=17, p=2, weights=distance;, score=0.791 total time=   0.0s\n",
      "[CV 4/5] END algorithm=kd_tree, metric=minkowski, n_neighbors=17, p=2, weights=distance;, score=0.913 total time=   0.0s\n",
      "[CV 5/5] END algorithm=kd_tree, metric=minkowski, n_neighbors=17, p=2, weights=distance;, score=0.714 total time=   0.0s\n",
      "[CV 1/5] END algorithm=ball_tree, metric=minkowski, n_neighbors=19, p=3, weights=uniform;, score=0.667 total time=   0.0s\n",
      "[CV 2/5] END algorithm=ball_tree, metric=minkowski, n_neighbors=19, p=3, weights=uniform;, score=0.864 total time=   0.0s\n",
      "[CV 3/5] END algorithm=ball_tree, metric=minkowski, n_neighbors=19, p=3, weights=uniform;, score=0.756 total time=   0.0s\n",
      "[CV 4/5] END algorithm=ball_tree, metric=minkowski, n_neighbors=19, p=3, weights=uniform;, score=0.837 total time=   0.0s\n",
      "[CV 5/5] END algorithm=ball_tree, metric=minkowski, n_neighbors=19, p=3, weights=uniform;, score=0.773 total time=   0.0s\n",
      "[CV 1/5] END algorithm=ball_tree, metric=manhattan, n_neighbors=12, weights=distance;, score=0.762 total time=   0.0s\n",
      "[CV 2/5] END algorithm=ball_tree, metric=manhattan, n_neighbors=12, weights=distance;, score=0.864 total time=   0.0s\n",
      "[CV 3/5] END algorithm=ball_tree, metric=manhattan, n_neighbors=12, weights=distance;, score=0.773 total time=   0.0s\n",
      "[CV 4/5] END algorithm=ball_tree, metric=manhattan, n_neighbors=12, weights=distance;, score=0.913 total time=   0.0s\n",
      "[CV 5/5] END algorithm=ball_tree, metric=manhattan, n_neighbors=12, weights=distance;, score=0.750 total time=   0.0s\n",
      "[CV 1/5] END algorithm=ball_tree, metric=manhattan, n_neighbors=14, weights=distance;, score=0.762 total time=   0.0s\n",
      "[CV 2/5] END algorithm=ball_tree, metric=manhattan, n_neighbors=14, weights=distance;, score=0.864 total time=   0.0s\n",
      "[CV 3/5] END algorithm=ball_tree, metric=manhattan, n_neighbors=14, weights=distance;, score=0.791 total time=   0.0s\n",
      "[CV 4/5] END algorithm=ball_tree, metric=manhattan, n_neighbors=14, weights=distance;, score=0.913 total time=   0.0s\n",
      "[CV 5/5] END algorithm=ball_tree, metric=manhattan, n_neighbors=14, weights=distance;, score=0.750 total time=   0.0s\n",
      "[CV 1/5] END algorithm=kd_tree, metric=manhattan, n_neighbors=17, weights=distance;, score=0.700 total time=   0.0s\n",
      "[CV 2/5] END algorithm=kd_tree, metric=manhattan, n_neighbors=17, weights=distance;, score=0.864 total time=   0.0s\n",
      "[CV 3/5] END algorithm=kd_tree, metric=manhattan, n_neighbors=17, weights=distance;, score=0.791 total time=   0.0s\n",
      "[CV 4/5] END algorithm=kd_tree, metric=manhattan, n_neighbors=17, weights=distance;, score=0.933 total time=   0.0s\n",
      "[CV 5/5] END algorithm=kd_tree, metric=manhattan, n_neighbors=17, weights=distance;, score=0.780 total time=   0.0s\n",
      "[CV 1/5] END algorithm=ball_tree, metric=manhattan, n_neighbors=4, weights=uniform;, score=0.700 total time=   0.0s\n",
      "[CV 2/5] END algorithm=ball_tree, metric=manhattan, n_neighbors=4, weights=uniform;, score=0.800 total time=   0.0s\n",
      "[CV 3/5] END algorithm=ball_tree, metric=manhattan, n_neighbors=4, weights=uniform;, score=0.762 total time=   0.0s\n",
      "[CV 4/5] END algorithm=ball_tree, metric=manhattan, n_neighbors=4, weights=uniform;, score=0.850 total time=   0.0s\n",
      "[CV 5/5] END algorithm=ball_tree, metric=manhattan, n_neighbors=4, weights=uniform;, score=0.632 total time=   0.0s\n",
      "[CV 1/5] END algorithm=kd_tree, metric=minkowski, n_neighbors=3, p=4, weights=uniform;, score=0.791 total time=   0.0s\n",
      "[CV 2/5] END algorithm=kd_tree, metric=minkowski, n_neighbors=3, p=4, weights=uniform;, score=0.878 total time=   0.0s\n",
      "[CV 3/5] END algorithm=kd_tree, metric=minkowski, n_neighbors=3, p=4, weights=uniform;, score=0.773 total time=   0.0s\n",
      "[CV 4/5] END algorithm=kd_tree, metric=minkowski, n_neighbors=3, p=4, weights=uniform;, score=0.851 total time=   0.0s\n",
      "[CV 5/5] END algorithm=kd_tree, metric=minkowski, n_neighbors=3, p=4, weights=uniform;, score=0.700 total time=   0.0s\n",
      "[CV 1/5] END algorithm=ball_tree, metric=minkowski, n_neighbors=15, p=3, weights=uniform;, score=0.667 total time=   0.0s\n",
      "[CV 2/5] END algorithm=ball_tree, metric=minkowski, n_neighbors=15, p=3, weights=uniform;, score=0.864 total time=   0.0s\n",
      "[CV 3/5] END algorithm=ball_tree, metric=minkowski, n_neighbors=15, p=3, weights=uniform;, score=0.773 total time=   0.0s\n",
      "[CV 4/5] END algorithm=ball_tree, metric=minkowski, n_neighbors=15, p=3, weights=uniform;, score=0.913 total time=   0.0s\n",
      "[CV 5/5] END algorithm=ball_tree, metric=minkowski, n_neighbors=15, p=3, weights=uniform;, score=0.700 total time=   0.0s\n",
      "[CV 1/5] END algorithm=ball_tree, metric=minkowski, n_neighbors=3, p=4, weights=uniform;, score=0.791 total time=   0.0s\n",
      "[CV 2/5] END algorithm=ball_tree, metric=minkowski, n_neighbors=3, p=4, weights=uniform;, score=0.878 total time=   0.0s\n",
      "[CV 3/5] END algorithm=ball_tree, metric=minkowski, n_neighbors=3, p=4, weights=uniform;, score=0.773 total time=   0.0s\n",
      "[CV 4/5] END algorithm=ball_tree, metric=minkowski, n_neighbors=3, p=4, weights=uniform;, score=0.851 total time=   0.0s\n",
      "[CV 5/5] END algorithm=ball_tree, metric=minkowski, n_neighbors=3, p=4, weights=uniform;, score=0.700 total time=   0.0s\n"
     ]
    },
    {
     "data": {
      "text/html": [
       "<style>#sk-container-id-5 {color: black;}#sk-container-id-5 pre{padding: 0;}#sk-container-id-5 div.sk-toggleable {background-color: white;}#sk-container-id-5 label.sk-toggleable__label {cursor: pointer;display: block;width: 100%;margin-bottom: 0;padding: 0.3em;box-sizing: border-box;text-align: center;}#sk-container-id-5 label.sk-toggleable__label-arrow:before {content: \"▸\";float: left;margin-right: 0.25em;color: #696969;}#sk-container-id-5 label.sk-toggleable__label-arrow:hover:before {color: black;}#sk-container-id-5 div.sk-estimator:hover label.sk-toggleable__label-arrow:before {color: black;}#sk-container-id-5 div.sk-toggleable__content {max-height: 0;max-width: 0;overflow: hidden;text-align: left;background-color: #f0f8ff;}#sk-container-id-5 div.sk-toggleable__content pre {margin: 0.2em;color: black;border-radius: 0.25em;background-color: #f0f8ff;}#sk-container-id-5 input.sk-toggleable__control:checked~div.sk-toggleable__content {max-height: 200px;max-width: 100%;overflow: auto;}#sk-container-id-5 input.sk-toggleable__control:checked~label.sk-toggleable__label-arrow:before {content: \"▾\";}#sk-container-id-5 div.sk-estimator input.sk-toggleable__control:checked~label.sk-toggleable__label {background-color: #d4ebff;}#sk-container-id-5 div.sk-label input.sk-toggleable__control:checked~label.sk-toggleable__label {background-color: #d4ebff;}#sk-container-id-5 input.sk-hidden--visually {border: 0;clip: rect(1px 1px 1px 1px);clip: rect(1px, 1px, 1px, 1px);height: 1px;margin: -1px;overflow: hidden;padding: 0;position: absolute;width: 1px;}#sk-container-id-5 div.sk-estimator {font-family: monospace;background-color: #f0f8ff;border: 1px dotted black;border-radius: 0.25em;box-sizing: border-box;margin-bottom: 0.5em;}#sk-container-id-5 div.sk-estimator:hover {background-color: #d4ebff;}#sk-container-id-5 div.sk-parallel-item::after {content: \"\";width: 100%;border-bottom: 1px solid gray;flex-grow: 1;}#sk-container-id-5 div.sk-label:hover label.sk-toggleable__label {background-color: #d4ebff;}#sk-container-id-5 div.sk-serial::before {content: \"\";position: absolute;border-left: 1px solid gray;box-sizing: border-box;top: 0;bottom: 0;left: 50%;z-index: 0;}#sk-container-id-5 div.sk-serial {display: flex;flex-direction: column;align-items: center;background-color: white;padding-right: 0.2em;padding-left: 0.2em;position: relative;}#sk-container-id-5 div.sk-item {position: relative;z-index: 1;}#sk-container-id-5 div.sk-parallel {display: flex;align-items: stretch;justify-content: center;background-color: white;position: relative;}#sk-container-id-5 div.sk-item::before, #sk-container-id-5 div.sk-parallel-item::before {content: \"\";position: absolute;border-left: 1px solid gray;box-sizing: border-box;top: 0;bottom: 0;left: 50%;z-index: -1;}#sk-container-id-5 div.sk-parallel-item {display: flex;flex-direction: column;z-index: 1;position: relative;background-color: white;}#sk-container-id-5 div.sk-parallel-item:first-child::after {align-self: flex-end;width: 50%;}#sk-container-id-5 div.sk-parallel-item:last-child::after {align-self: flex-start;width: 50%;}#sk-container-id-5 div.sk-parallel-item:only-child::after {width: 0;}#sk-container-id-5 div.sk-dashed-wrapped {border: 1px dashed gray;margin: 0 0.4em 0.5em 0.4em;box-sizing: border-box;padding-bottom: 0.4em;background-color: white;}#sk-container-id-5 div.sk-label label {font-family: monospace;font-weight: bold;display: inline-block;line-height: 1.2em;}#sk-container-id-5 div.sk-label-container {text-align: center;}#sk-container-id-5 div.sk-container {/* jupyter's `normalize.less` sets `[hidden] { display: none; }` but bootstrap.min.css set `[hidden] { display: none !important; }` so we also need the `!important` here to be able to override the default hidden behavior on the sphinx rendered scikit-learn.org. See: https://github.com/scikit-learn/scikit-learn/issues/21755 */display: inline-block !important;position: relative;}#sk-container-id-5 div.sk-text-repr-fallback {display: none;}</style><div id=\"sk-container-id-5\" class=\"sk-top-container\"><div class=\"sk-text-repr-fallback\"><pre>RandomizedSearchCV(cv=5, estimator=KNeighborsClassifier(),\n",
       "                   param_distributions=[{&#x27;algorithm&#x27;: [&#x27;ball_tree&#x27;, &#x27;kd_tree&#x27;],\n",
       "                                         &#x27;metric&#x27;: [&#x27;minkowski&#x27;],\n",
       "                                         &#x27;n_neighbors&#x27;: [3, 4, 5, 6, 7, 8, 9,\n",
       "                                                         10, 11, 12, 13, 14, 15,\n",
       "                                                         16, 17, 18, 19],\n",
       "                                         &#x27;p&#x27;: [2, 3, 4],\n",
       "                                         &#x27;weights&#x27;: [&#x27;uniform&#x27;, &#x27;distance&#x27;]},\n",
       "                                        {&#x27;algorithm&#x27;: [&#x27;ball_tree&#x27;, &#x27;kd_tree&#x27;],\n",
       "                                         &#x27;metric&#x27;: [&#x27;manhattan&#x27;],\n",
       "                                         &#x27;n_neighbors&#x27;: [3, 4, 5, 6, 7, 8, 9,\n",
       "                                                         10, 11, 12, 13, 14, 15,\n",
       "                                                         16, 17, 18, 19],\n",
       "                                         &#x27;weights&#x27;: [&#x27;uniform&#x27;, &#x27;distance&#x27;]}],\n",
       "                   scoring=&#x27;f1&#x27;, verbose=4)</pre><b>In a Jupyter environment, please rerun this cell to show the HTML representation or trust the notebook. <br />On GitHub, the HTML representation is unable to render, please try loading this page with nbviewer.org.</b></div><div class=\"sk-container\" hidden><div class=\"sk-item sk-dashed-wrapped\"><div class=\"sk-label-container\"><div class=\"sk-label sk-toggleable\"><input class=\"sk-toggleable__control sk-hidden--visually\" id=\"sk-estimator-id-5\" type=\"checkbox\" ><label for=\"sk-estimator-id-5\" class=\"sk-toggleable__label sk-toggleable__label-arrow\">RandomizedSearchCV</label><div class=\"sk-toggleable__content\"><pre>RandomizedSearchCV(cv=5, estimator=KNeighborsClassifier(),\n",
       "                   param_distributions=[{&#x27;algorithm&#x27;: [&#x27;ball_tree&#x27;, &#x27;kd_tree&#x27;],\n",
       "                                         &#x27;metric&#x27;: [&#x27;minkowski&#x27;],\n",
       "                                         &#x27;n_neighbors&#x27;: [3, 4, 5, 6, 7, 8, 9,\n",
       "                                                         10, 11, 12, 13, 14, 15,\n",
       "                                                         16, 17, 18, 19],\n",
       "                                         &#x27;p&#x27;: [2, 3, 4],\n",
       "                                         &#x27;weights&#x27;: [&#x27;uniform&#x27;, &#x27;distance&#x27;]},\n",
       "                                        {&#x27;algorithm&#x27;: [&#x27;ball_tree&#x27;, &#x27;kd_tree&#x27;],\n",
       "                                         &#x27;metric&#x27;: [&#x27;manhattan&#x27;],\n",
       "                                         &#x27;n_neighbors&#x27;: [3, 4, 5, 6, 7, 8, 9,\n",
       "                                                         10, 11, 12, 13, 14, 15,\n",
       "                                                         16, 17, 18, 19],\n",
       "                                         &#x27;weights&#x27;: [&#x27;uniform&#x27;, &#x27;distance&#x27;]}],\n",
       "                   scoring=&#x27;f1&#x27;, verbose=4)</pre></div></div></div><div class=\"sk-parallel\"><div class=\"sk-parallel-item\"><div class=\"sk-item\"><div class=\"sk-label-container\"><div class=\"sk-label sk-toggleable\"><input class=\"sk-toggleable__control sk-hidden--visually\" id=\"sk-estimator-id-6\" type=\"checkbox\" ><label for=\"sk-estimator-id-6\" class=\"sk-toggleable__label sk-toggleable__label-arrow\">estimator: KNeighborsClassifier</label><div class=\"sk-toggleable__content\"><pre>KNeighborsClassifier()</pre></div></div></div><div class=\"sk-serial\"><div class=\"sk-item\"><div class=\"sk-estimator sk-toggleable\"><input class=\"sk-toggleable__control sk-hidden--visually\" id=\"sk-estimator-id-7\" type=\"checkbox\" ><label for=\"sk-estimator-id-7\" class=\"sk-toggleable__label sk-toggleable__label-arrow\">KNeighborsClassifier</label><div class=\"sk-toggleable__content\"><pre>KNeighborsClassifier()</pre></div></div></div></div></div></div></div></div></div></div>"
      ],
      "text/plain": [
       "RandomizedSearchCV(cv=5, estimator=KNeighborsClassifier(),\n",
       "                   param_distributions=[{'algorithm': ['ball_tree', 'kd_tree'],\n",
       "                                         'metric': ['minkowski'],\n",
       "                                         'n_neighbors': [3, 4, 5, 6, 7, 8, 9,\n",
       "                                                         10, 11, 12, 13, 14, 15,\n",
       "                                                         16, 17, 18, 19],\n",
       "                                         'p': [2, 3, 4],\n",
       "                                         'weights': ['uniform', 'distance']},\n",
       "                                        {'algorithm': ['ball_tree', 'kd_tree'],\n",
       "                                         'metric': ['manhattan'],\n",
       "                                         'n_neighbors': [3, 4, 5, 6, 7, 8, 9,\n",
       "                                                         10, 11, 12, 13, 14, 15,\n",
       "                                                         16, 17, 18, 19],\n",
       "                                         'weights': ['uniform', 'distance']}],\n",
       "                   scoring='f1', verbose=4)"
      ]
     },
     "execution_count": 29,
     "metadata": {},
     "output_type": "execute_result"
    }
   ],
   "source": [
    "gscv_knn.fit(X_train, y_train.values.ravel())"
   ]
  },
  {
   "cell_type": "code",
   "execution_count": 30,
   "id": "3a0de75a",
   "metadata": {},
   "outputs": [],
   "source": [
    "best_knn = gscv_knn.best_estimator_"
   ]
  },
  {
   "cell_type": "code",
   "execution_count": 31,
   "id": "59c67227",
   "metadata": {},
   "outputs": [],
   "source": [
    "best_knn_hyperparameters = gscv_knn.best_params_"
   ]
  },
  {
   "cell_type": "code",
   "execution_count": 33,
   "id": "b2ca01c3",
   "metadata": {},
   "outputs": [
    {
     "data": {
      "text/plain": [
       "{'weights': 'distance',\n",
       " 'n_neighbors': 14,\n",
       " 'metric': 'manhattan',\n",
       " 'algorithm': 'ball_tree'}"
      ]
     },
     "execution_count": 33,
     "metadata": {},
     "output_type": "execute_result"
    }
   ],
   "source": [
    "best_knn_hyperparameters"
   ]
  },
  {
   "cell_type": "code",
   "execution_count": 34,
   "id": "24f6e776",
   "metadata": {},
   "outputs": [],
   "source": [
    "y_pred = best_knn.predict(X_test)"
   ]
  },
  {
   "cell_type": "code",
   "execution_count": 35,
   "id": "5f1f4a41",
   "metadata": {},
   "outputs": [
    {
     "name": "stdout",
     "output_type": "stream",
     "text": [
      "Accuracy  : 0.819672131147541\n",
      "Precision : 0.75\n",
      "Recall    : 0.84\n",
      "F1        : 0.7924528301886793\n"
     ]
    }
   ],
   "source": [
    "print(\"Accuracy  :\", accuracy_score(y_pred, y_test.values))\n",
    "print(\"Precision :\", precision_score(y_pred, y_test.values))\n",
    "print(\"Recall    :\", recall_score(y_pred, y_test.values))\n",
    "print(\"F1        :\", f1_score(y_pred, y_test.values))"
   ]
  },
  {
   "cell_type": "code",
   "execution_count": 36,
   "id": "ff98a0a3",
   "metadata": {},
   "outputs": [],
   "source": [
    "cm = confusion_matrix(y_pred, y_test.values)"
   ]
  },
  {
   "cell_type": "code",
   "execution_count": 37,
   "id": "bfb2477e",
   "metadata": {},
   "outputs": [
    {
     "data": {
      "text/plain": [
       "<sklearn.metrics._plot.confusion_matrix.ConfusionMatrixDisplay at 0x7a2952a1beb0>"
      ]
     },
     "execution_count": 37,
     "metadata": {},
     "output_type": "execute_result"
    },
    {
     "data": {
      "image/png": "[encoded data removed]",
      "text/plain": [
       "<Figure size 640x480 with 2 Axes>"
      ]
     },
     "metadata": {},
     "output_type": "display_data"
    }
   ],
   "source": [
    "cmd = ConfusionMatrixDisplay(confusion_matrix = cm)\n",
    "cmd.plot()"
   ]
  },
  {
   "cell_type": "code",
   "execution_count": 38,
   "id": "c955d694",
   "metadata": {},
   "outputs": [
    {
     "name": "stdout",
     "output_type": "stream",
     "text": [
      "              precision    recall  f1-score   support\n",
      "\n",
      "           0       0.88      0.81      0.84        36\n",
      "           1       0.75      0.84      0.79        25\n",
      "\n",
      "    accuracy                           0.82        61\n",
      "   macro avg       0.81      0.82      0.82        61\n",
      "weighted avg       0.83      0.82      0.82        61\n",
      "\n"
     ]
    }
   ],
   "source": [
    "print(classification_report(y_pred, y_test))"
   ]
  },
  {
   "cell_type": "code",
   "execution_count": 39,
   "id": "823094a8",
   "metadata": {},
   "outputs": [
    {
     "data": {
      "text/plain": [
       "<sklearn.metrics._plot.roc_curve.RocCurveDisplay at 0x7a2952e4c550>"
      ]
     },
     "execution_count": 39,
     "metadata": {},
     "output_type": "execute_result"
    },
    {
     "data": {
      "image/png": "[encoded data removed]",
      "text/plain": [
       "<Figure size 640x480 with 1 Axes>"
      ]
     },
     "metadata": {},
     "output_type": "display_data"
    }
   ],
   "source": [
    "RocCurveDisplay.from_predictions(y_test, y_pred)"
   ]
  },
  {
   "cell_type": "code",
   "execution_count": 40,
   "id": "a6b97144",
   "metadata": {},
   "outputs": [
    {
     "data": {
      "text/plain": [
       "<sklearn.metrics._plot.precision_recall_curve.PrecisionRecallDisplay at 0x7a29563675b0>"
      ]
     },
     "execution_count": 40,
     "metadata": {},
     "output_type": "execute_result"
    },
    {
     "data": {
      "image/png": "[encoded data removed]",
      "text/plain": [
       "<Figure size 640x480 with 1 Axes>"
      ]
     },
     "metadata": {},
     "output_type": "display_data"
    }
   ],
   "source": [
    "PrecisionRecallDisplay.from_predictions(y_test, y_pred)"
   ]
  },
  {
   "cell_type": "code",
   "execution_count": null,
   "id": "195b5493",
   "metadata": {},
   "outputs": [],
   "source": []
  }
 ],
 "metadata": {
  "kernelspec": {
   "display_name": "Python 3 (ipykernel)",
   "language": "python",
   "name": "python3"
  },
  "language_info": {
   "codemirror_mode": {
    "name": "ipython",
    "version": 3
   },
   "file_extension": ".py",
   "mimetype": "text/x-python",
   "name": "python",
   "nbconvert_exporter": "python",
   "pygments_lexer": "ipython3",
   "version": "3.10.12"
  }
 },
 "nbformat": 4,
 "nbformat_minor": 5
}
